{
 "cells": [
  {
   "attachments": {},
   "cell_type": "markdown",
   "metadata": {},
   "source": [
    "Nous importons les différents packages nécéssaires."
   ]
  },
  {
   "cell_type": "code",
   "execution_count": 39,
   "metadata": {},
   "outputs": [],
   "source": [
    "import cvxpy as cp\n",
    "import numpy as np\n",
    "import matplotlib.pyplot as plt\n",
    "from scipy.optimize import linprog\n",
    "import math\n",
    "import time"
   ]
  },
  {
   "attachments": {},
   "cell_type": "markdown",
   "metadata": {},
   "source": [
    "Initialisation des données : "
   ]
  },
  {
   "cell_type": "code",
   "execution_count": 40,
   "metadata": {},
   "outputs": [],
   "source": [
    "dt = 15*60 \n",
    "nb_intervalles = 672 #nombres d'intervalles de 15 minutes sur 7 jours\n",
    "temperatures_ext = np.load(\"Temperatures-Montreal.npy\") # donées des températures à Montreal\n",
    "eta = 0.99 # coefficient relatif à l'isolation\n",
    "capacite_calorifique = 0.4 * 360 #kWh pour chauffer de 1°c\n",
    "\n",
    "T_min = 19 #Température minimale du batiment\n",
    "T_max = 21 #Température maximale du batiment\n",
    "\n",
    "cout_elec = np.full(nb_intervalles,0.26) #initalisation du cout de l'élec a 0.26 partout\n",
    "for i in range(7):\n",
    "    for j in range(96):\n",
    "        if j < 28 or j>= 88: #réajustement du cout de l'élec a 0.18 entre 22h et 7h\n",
    "            cout_elec[j+i*96] = 0.18 \n",
    "            \n",
    "COPT_reverse = 3.2 #COPT de la pompe quand on refroidi\n",
    "def COP_normal(T_ext):\n",
    "    return 3 + 10 * abs(np.tanh(T_ext/100)) * np.tanh(T_ext/100) #Fonction qui décrit le comportement du COP quand on réchauffe\n"
   ]
  },
  {
   "attachments": {},
   "cell_type": "markdown",
   "metadata": {},
   "source": [
    "Tache 1:\n",
    "La temperature doit rester entre 19°c et 21°c et le modele doit minimiser le coût total de l'électricité consommée par la pompe à chaleur"
   ]
  },
  {
   "cell_type": "code",
   "execution_count": 41,
   "metadata": {},
   "outputs": [
    {
     "name": "stderr",
     "output_type": "stream",
     "text": [
      "/home/iss25/.local/lib/python3.10/site-packages/cvxpy/expressions/expression.py:612: UserWarning: \n",
      "This use of ``*`` has resulted in matrix multiplication.\n",
      "Using ``*`` for matrix multiplication has been deprecated since CVXPY 1.1.\n",
      "    Use ``*`` for matrix-scalar and vector-scalar multiplication.\n",
      "    Use ``@`` for matrix-matrix and matrix-vector multiplication.\n",
      "    Use ``multiply`` for elementwise multiplication.\n",
      "This code path has been hit 11 times so far.\n",
      "\n",
      "  warnings.warn(msg, UserWarning)\n"
     ]
    }
   ],
   "source": [
    "##Initialisation des variables :\n",
    "\n",
    "T_int = cp.Variable(nb_intervalles)\n",
    "\n",
    "#puissance qu'on va utiliser pour la pompe à chaleur\n",
    "P_chauff = cp.Variable(nb_intervalles, nonneg=True) #en mode normal\n",
    "P_refroid = cp.Variable(nb_intervalles, nonneg=True) #en mode inverse\n",
    "\n",
    "## Initialisation du tableau de contraintes pour le probleme qui commence à 0:\n",
    "contraintes_1 = []\n",
    "\n",
    "#la température du batiment doit rester admissible: \n",
    "contraintes_1 += [T_min <= T_int[i] for i in range(nb_intervalles)]\n",
    "contraintes_1 += [T_int[i] <= T_max for i in range(nb_intervalles)]\n",
    "\n",
    "for i in range(nb_intervalles - 1):\n",
    "    \n",
    "    contraintes_1 += [T_int[i+1] == T_int[i] + (dt/(3600*COP_normal(temperatures_ext[i])))*(P_chauff[i]*COP_normal(temperatures_ext[i]) - (T_int[i] - temperatures_ext[i])) - #FAUT ENLEVER\n",
    "                       (dt/(3600*COPT_reverse ))*(P_refroid[i]*COPT_reverse  - (T_int[i+1] - temperatures_ext[i]))] ## deuxième terme = perte environnementale\n",
    "\n",
    "    \n",
    "    contraintes_1 += [T_int[i + 1] - T_int[i] == (1 - eta) * ( T_int[i]- temperatures_ext[i]) \n",
    "                      +(COP_normal(temperatures_ext[i]) * P_chauff * dt * capacite_calorifique) - (COPT_reverse * P_refroid * dt * capacite_calorifique)] #Contrainte perte de chaleur \n",
    "    #AJOUTER + (COPrechauffe * Puissance * dt * ε) - (COPrefroid * Puissance * dt * ε)\n",
    "\n",
    "#Contrainte sur la positivité des puissances et max KW\n",
    "contraintes_1 += [P_chauff >= 0]\n",
    "contraintes_1 += [P_refroid >= 0]\n",
    "contraintes_1 += [P_chauff <= 3.2]\n",
    "contraintes_1 += [P_refroid <= 3.2]\n",
    "\n",
    "## Initialisation du cout total :\n",
    "cost = cp.sum(cout_elec * (P_chauff + P_refroid)) \n",
    "\n",
    "start_time1 = time.time()\n",
    "\n",
    "##Résolution 1 :\n",
    "problem1 = cp.Problem(cp.Minimize(cost), contraintes_1)\n",
    "first =problem1.solve(solver=cp.SCIPY, scipy_options={\"method\": \"highs\"})\n",
    "temps_calcul1 = time.time() - start_time1"
   ]
  },
  {
   "attachments": {},
   "cell_type": "markdown",
   "metadata": {},
   "source": [
    "Plot pour tache 1:"
   ]
  },
  {
   "cell_type": "code",
   "execution_count": 42,
   "metadata": {},
   "outputs": [
    {
     "name": "stdout",
     "output_type": "stream",
     "text": [
      "1: \n",
      " Puissances normales =  None \n",
      " Puissances reverses =  None \n",
      " Températures internes =  None \n",
      " Cout =  inf \n",
      " Temps de résolution =  25.507481336593628\n"
     ]
    },
    {
     "ename": "ValueError",
     "evalue": "x, y, and format string must not be None",
     "output_type": "error",
     "traceback": [
      "\u001b[0;31m---------------------------------------------------------------------------\u001b[0m",
      "\u001b[0;31mValueError\u001b[0m                                Traceback (most recent call last)",
      "Cell \u001b[0;32mIn[42], line 11\u001b[0m\n\u001b[1;32m      8\u001b[0m fig, axs \u001b[39m=\u001b[39m plt\u001b[39m.\u001b[39msubplots(nrows\u001b[39m=\u001b[39m\u001b[39m2\u001b[39m, ncols\u001b[39m=\u001b[39m\u001b[39m2\u001b[39m, figsize\u001b[39m=\u001b[39m(\u001b[39m16\u001b[39m, \u001b[39m8\u001b[39m))\n\u001b[1;32m      9\u001b[0m x \u001b[39m=\u001b[39m np\u001b[39m.\u001b[39mlinspace(\u001b[39m0\u001b[39m, \u001b[39m672\u001b[39m, \u001b[39m672\u001b[39m)\n\u001b[0;32m---> 11\u001b[0m axs[\u001b[39m0\u001b[39;49m][\u001b[39m0\u001b[39;49m]\u001b[39m.\u001b[39;49mplot(x,T_int\u001b[39m.\u001b[39;49mvalue)\n\u001b[1;32m     12\u001b[0m axs[\u001b[39m0\u001b[39m][\u001b[39m0\u001b[39m]\u001b[39m.\u001b[39mset_title(\u001b[39m\"\u001b[39m\u001b[39mPériode 1 - Évolution des températures\u001b[39m\u001b[39m\"\u001b[39m)\n\u001b[1;32m     13\u001b[0m axs[\u001b[39m0\u001b[39m][\u001b[39m0\u001b[39m]\u001b[39m.\u001b[39mset_xlabel(\u001b[39m\"\u001b[39m\u001b[39mIntervalle de temps\u001b[39m\u001b[39m\"\u001b[39m)\n",
      "File \u001b[0;32m~/.local/lib/python3.10/site-packages/matplotlib/axes/_axes.py:1668\u001b[0m, in \u001b[0;36mAxes.plot\u001b[0;34m(self, scalex, scaley, data, *args, **kwargs)\u001b[0m\n\u001b[1;32m   1425\u001b[0m \u001b[39m\u001b[39m\u001b[39m\"\"\"\u001b[39;00m\n\u001b[1;32m   1426\u001b[0m \u001b[39mPlot y versus x as lines and/or markers.\u001b[39;00m\n\u001b[1;32m   1427\u001b[0m \n\u001b[0;32m   (...)\u001b[0m\n\u001b[1;32m   1665\u001b[0m \u001b[39m(``'green'``) or hex strings (``'#008000'``).\u001b[39;00m\n\u001b[1;32m   1666\u001b[0m \u001b[39m\"\"\"\u001b[39;00m\n\u001b[1;32m   1667\u001b[0m kwargs \u001b[39m=\u001b[39m cbook\u001b[39m.\u001b[39mnormalize_kwargs(kwargs, mlines\u001b[39m.\u001b[39mLine2D)\n\u001b[0;32m-> 1668\u001b[0m lines \u001b[39m=\u001b[39m [\u001b[39m*\u001b[39m\u001b[39mself\u001b[39m\u001b[39m.\u001b[39m_get_lines(\u001b[39m*\u001b[39margs, data\u001b[39m=\u001b[39mdata, \u001b[39m*\u001b[39m\u001b[39m*\u001b[39mkwargs)]\n\u001b[1;32m   1669\u001b[0m \u001b[39mfor\u001b[39;00m line \u001b[39min\u001b[39;00m lines:\n\u001b[1;32m   1670\u001b[0m     \u001b[39mself\u001b[39m\u001b[39m.\u001b[39madd_line(line)\n",
      "File \u001b[0;32m~/.local/lib/python3.10/site-packages/matplotlib/axes/_base.py:311\u001b[0m, in \u001b[0;36m_process_plot_var_args.__call__\u001b[0;34m(self, data, *args, **kwargs)\u001b[0m\n\u001b[1;32m    309\u001b[0m     this \u001b[39m+\u001b[39m\u001b[39m=\u001b[39m args[\u001b[39m0\u001b[39m],\n\u001b[1;32m    310\u001b[0m     args \u001b[39m=\u001b[39m args[\u001b[39m1\u001b[39m:]\n\u001b[0;32m--> 311\u001b[0m \u001b[39myield from\u001b[39;00m \u001b[39mself\u001b[39;49m\u001b[39m.\u001b[39;49m_plot_args(\n\u001b[1;32m    312\u001b[0m     this, kwargs, ambiguous_fmt_datakey\u001b[39m=\u001b[39;49mambiguous_fmt_datakey)\n",
      "File \u001b[0;32m~/.local/lib/python3.10/site-packages/matplotlib/axes/_base.py:465\u001b[0m, in \u001b[0;36m_process_plot_var_args._plot_args\u001b[0;34m(self, tup, kwargs, return_kwargs, ambiguous_fmt_datakey)\u001b[0m\n\u001b[1;32m    462\u001b[0m \u001b[39m# Don't allow any None value; these would be up-converted to one\u001b[39;00m\n\u001b[1;32m    463\u001b[0m \u001b[39m# element array of None which causes problems downstream.\u001b[39;00m\n\u001b[1;32m    464\u001b[0m \u001b[39mif\u001b[39;00m \u001b[39many\u001b[39m(v \u001b[39mis\u001b[39;00m \u001b[39mNone\u001b[39;00m \u001b[39mfor\u001b[39;00m v \u001b[39min\u001b[39;00m tup):\n\u001b[0;32m--> 465\u001b[0m     \u001b[39mraise\u001b[39;00m \u001b[39mValueError\u001b[39;00m(\u001b[39m\"\u001b[39m\u001b[39mx, y, and format string must not be None\u001b[39m\u001b[39m\"\u001b[39m)\n\u001b[1;32m    467\u001b[0m kw \u001b[39m=\u001b[39m {}\n\u001b[1;32m    468\u001b[0m \u001b[39mfor\u001b[39;00m prop_name, val \u001b[39min\u001b[39;00m \u001b[39mzip\u001b[39m((\u001b[39m'\u001b[39m\u001b[39mlinestyle\u001b[39m\u001b[39m'\u001b[39m, \u001b[39m'\u001b[39m\u001b[39mmarker\u001b[39m\u001b[39m'\u001b[39m, \u001b[39m'\u001b[39m\u001b[39mcolor\u001b[39m\u001b[39m'\u001b[39m),\n\u001b[1;32m    469\u001b[0m                           (linestyle, marker, color)):\n",
      "\u001b[0;31mValueError\u001b[0m: x, y, and format string must not be None"
     ]
    },
    {
     "data": {
      "image/png": "[encoded data removed]",
      "text/plain": [
       "<Figure size 1600x800 with 4 Axes>"
      ]
     },
     "metadata": {},
     "output_type": "display_data"
    }
   ],
   "source": [
    "##Récupération des valeurs :\n",
    "\n",
    "print(\"1:\", \"\\n\",\"Puissances normales = \", P_chauff.value, \"\\n\", \"Puissances reverses = \", P_refroid.value,\"\\n\", \"Températures internes = \", T_int.value, \"\\n\",\n",
    "      \"Cout = \", problem1.value,\"\\n\", \"Temps de résolution = \", temps_calcul1)\n",
    "\n",
    "\n",
    "# Graphique de l'évolution des températures\n",
    "fig, axs = plt.subplots(nrows=2, ncols=2, figsize=(16, 8))\n",
    "x = np.linspace(0, 672, 672)\n",
    "\n",
    "axs[0][0].plot(x,T_int.value)\n",
    "axs[0][0].set_title(\"Période 1 - Évolution des températures\")\n",
    "axs[0][0].set_xlabel(\"Intervalle de temps\")\n",
    "axs[0][0].set_ylabel(\"Température (°C)\")\n",
    "\n",
    "# Graphique représentant l'utilisation de la pompe à chaleur\n",
    "\n",
    "x = np.linspace(0, 672, 672)\n",
    "\n",
    "axs[1][0].plot(x, P_chauff.value, label=\"Fonctionnement normal\")\n",
    "axs[1][0].plot(x, P_refroid.value, label=\"Fonctionnement reverse\")\n",
    "axs[1][0].set_title(\"Période 1 - Utilisation de la pompe à chaleur\")\n",
    "axs[1][0].set_xlabel(\"Intervalle de temps\")\n",
    "axs[1][0].set_ylabel(\"Puissance (kW)\")\n",
    "axs[1][0].legend()"
   ]
  },
  {
   "attachments": {},
   "cell_type": "markdown",
   "metadata": {},
   "source": [
    "Tache 2: minimiser l'inconfort total en respectant contrainte de budget"
   ]
  },
  {
   "cell_type": "code",
   "execution_count": null,
   "metadata": {},
   "outputs": [],
   "source": []
  },
  {
   "attachments": {},
   "cell_type": "markdown",
   "metadata": {},
   "source": [
    "Plot pour tache 2:"
   ]
  },
  {
   "cell_type": "code",
   "execution_count": null,
   "metadata": {},
   "outputs": [],
   "source": []
  },
  {
   "attachments": {},
   "cell_type": "markdown",
   "metadata": {},
   "source": [
    "Tache 3: graphique représentant au mieux cette relation entre budget et inconfort"
   ]
  },
  {
   "cell_type": "code",
   "execution_count": null,
   "metadata": {},
   "outputs": [],
   "source": []
  },
  {
   "attachments": {},
   "cell_type": "markdown",
   "metadata": {},
   "source": [
    "Plot pour tache 3:"
   ]
  },
  {
   "cell_type": "code",
   "execution_count": null,
   "metadata": {},
   "outputs": [],
   "source": []
  }
 ],
 "metadata": {
  "kernelspec": {
   "display_name": "Python 3",
   "language": "python",
   "name": "python3"
  },
  "language_info": {
   "codemirror_mode": {
    "name": "ipython",
    "version": 3
   },
   "file_extension": ".py",
   "mimetype": "text/x-python",
   "name": "python",
   "nbconvert_exporter": "python",
   "pygments_lexer": "ipython3",
   "version": "3.10.6"
  },
  "orig_nbformat": 4
 },
 "nbformat": 4,
 "nbformat_minor": 2
}
