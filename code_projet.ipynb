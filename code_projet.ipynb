{
 "cells": [
  {
   "attachments": {},
   "cell_type": "markdown",
   "metadata": {},
   "source": [
    "Import des modules nécéssaires au projet:"
   ]
  },
  {
   "cell_type": "code",
   "execution_count": 41,
   "metadata": {},
   "outputs": [],
   "source": [
    "import cvxpy as cp\n",
    "import numpy as np\n",
    "import matplotlib.pyplot as plt\n",
    "import math\n",
    "import time"
   ]
  },
  {
   "attachments": {},
   "cell_type": "markdown",
   "metadata": {},
   "source": [
    "Initialisation des valeurs:"
   ]
  },
  {
   "cell_type": "code",
   "execution_count": 42,
   "metadata": {},
   "outputs": [],
   "source": [
    "temperatures_montreal = np.load(\"Temperatures-Montreal.npy\")\n",
    "eta = 0.99\n",
    "max_pump_power = 1 # kW\n",
    "Cp = 0.4 # °C/1kWh\n",
    "T_min = 19 # °C\n",
    "T_max = 21 # °C\n",
    "inconfort_penality_supp = 1\n",
    "inconfort_penality_inf = 3\n",
    "ref_week_start_idx = 13050 # mi-avril \n",
    "arbitrary_week_start_idx = 1 #30240 # mi-octobre (arbitrary)\n",
    "computing_intervals_amount = 7*24*4 \n",
    "task_3_step = 10 # arbitrary\n",
    "mid_temperature = (T_max + T_min)//2  \n",
    "task_2_budget_coefficient = 0.9 # arbitrary\n",
    "\n",
    "# initialisation du tarif bi-horaire pour les couts d'éléctricité\n",
    "electricity_cost = [0.18 if (i % (24*4)) /4 >= 22 or (i % (24*4))/4 < 7 else 0.26 for i in range(len(temperatures_montreal))] \n",
    "\n",
    "#Fonction qui renvoie la COP de chauffe\n",
    "def COP_warming(T_ext):\n",
    "    return 3 + 10 * abs(np.tanh(T_ext/100)) * np.tanh(T_ext/100)\n",
    "\n",
    "#Fonction qui renvoie la COP de refroidissement\n",
    "def COP_reverse():\n",
    "    return 3.2"
   ]
  },
  {
   "attachments": {},
   "cell_type": "markdown",
   "metadata": {},
   "source": [
    "Fonction pour la tache 1 et 2:"
   ]
  },
  {
   "cell_type": "code",
   "execution_count": 43,
   "metadata": {},
   "outputs": [],
   "source": [
    "#Fonction qui renvoie la chaleur perdue sans action de la pompe\n",
    "def next_temperature(T_old, T_ext):\n",
    "    return - (1-eta) * (T_old - T_ext) + T_old\n",
    "\n",
    "#Fonction qui effectue la tache 1 et 2 (pour passer a la tache 2, il faut définir max_cost):\n",
    "def basic(first_interval_idx, max_cost=math.inf):\n",
    "    inconfort_mode = max_cost != math.inf                                                # Mode pour passer de la tache 1 à 2\n",
    "    last_interval_idx = first_interval_idx + computing_intervals_amount                              \n",
    "    temperatures_ext = temperatures_montreal[first_interval_idx:last_interval_idx]\n",
    "\n",
    "    p_warming = cp.Variable(computing_intervals_amount, nonneg=True)                     # Puissance de la pompe à l'intervalle i en réchauffement\n",
    "    p_reverse = cp.Variable(computing_intervals_amount, nonneg=True)                     # Puissance de la pompe à l'intervalle i en reverse\n",
    "    temperatures_int = cp.Variable(computing_intervals_amount)                           # Températures intérieures\n",
    "    partial_electricity_cost = electricity_cost[first_interval_idx:last_interval_idx]    # Coût de l'électricité sur la période sélectionnée\n",
    "    \n",
    "    cost = cp.sum(partial_electricity_cost @ (p_warming + p_reverse) * 4)                # Définition du cout qui est l'objectif pour la tache 1 et une contrainte pour la 2\n",
    "\n",
    "    #Ajustement entre la tache 1 et 2\n",
    "    if inconfort_mode:\n",
    "        inconforts_sup = cp.Variable(computing_intervals_amount, nonneg=True)\n",
    "        inconforts_inf = cp.Variable(computing_intervals_amount, nonneg=True)\n",
    "        objective = cp.sum(inconforts_sup*inconfort_penality_supp + inconfort_penality_inf*inconforts_inf)\n",
    "    else:\n",
    "        objective = cost\n",
    "\n",
    "    #Définition des contraintes de puissance\n",
    "    constraints = [p_warming >= 0]\n",
    "    constraints += [p_reverse >= 0]\n",
    "    constraints += [p_warming <= max_pump_power]\n",
    "    constraints += [p_reverse <= max_pump_power]\n",
    "\n",
    "    #Définition des contraintes de température\n",
    "    constraints += [temperatures_int[0] == mid_temperature]\n",
    "    constraints += [temperatures_int[-1] == mid_temperature]\n",
    "    if not inconfort_mode:\n",
    "        constraints += [temperatures_int >= T_min]\n",
    "        constraints += [temperatures_int <= T_max]\n",
    "    if inconfort_mode:\n",
    "        constraints += [cost <= max_cost]\n",
    "\n",
    "    #Définition des contraintes entre la température actuelle et la suivante \n",
    "    for i in range(computing_intervals_amount - 1):\n",
    "        constraints += [\n",
    "            temperatures_int[i+1] == next_temperature(temperatures_int[i], temperatures_ext[i])              # isolation loss\n",
    "                                    + (COP_warming(temperatures_ext[i]) * p_warming[i] * 15 * Cp)            # warming mode\n",
    "                                    - (COP_reverse() * p_reverse[i] * 15 * Cp)                               # reverse mode\n",
    "                                    ] \n",
    "        if inconfort_mode:\n",
    "            constraints += [temperatures_int[i] - T_min >= -inconforts_inf[i]]\n",
    "            constraints += [temperatures_int[i] - T_max <= inconforts_sup[i]]\n",
    "    if inconfort_mode:   \n",
    "        constraints += [temperatures_ext[-1] - T_min >= -inconforts_inf[-1]]\n",
    "        constraints += [temperatures_int[-1] - T_max <= inconforts_sup[-1]]\n",
    "\n",
    "    #Résolution du problème\n",
    "    problem = cp.Problem(cp.Minimize(objective), constraints)\n",
    "    start_time = time.time()\n",
    "    solution = problem.solve(solver=cp.SCIPY, scipy_options={\"method\": \"highs\"}, warm_start=inconfort_mode)\n",
    "    end_time = time.time()\n",
    "\n",
    "    if cost.value is None: \n",
    "        return []\n",
    "    return [temperatures_int.value, p_warming.value, p_reverse.value, cost.value, problem.value, end_time - start_time]\n"
   ]
  },
  {
   "attachments": {},
   "cell_type": "markdown",
   "metadata": {},
   "source": [
    "Tache 3:"
   ]
  },
  {
   "cell_type": "code",
   "execution_count": 44,
   "metadata": {},
   "outputs": [],
   "source": [
    "#Fonction qui effectue la tache 3\n",
    "def task3(first_interval_idx, max_cost):\n",
    "    last_interval_idx = first_interval_idx + computing_intervals_amount\n",
    "    outputs = []\n",
    "    max_allocated_budget = np.linspace(0, max_cost, num=100//task_3_step+1) \n",
    "    for i in range(len(max_allocated_budget)):\n",
    "        output = basic(first_interval_idx, max_allocated_budget[i]) #effectue la tache 2 en changeant le budget par la boucle for\n",
    "        outputs.append(output)\n",
    "    return outputs"
   ]
  },
  {
   "attachments": {},
   "cell_type": "markdown",
   "metadata": {},
   "source": [
    "Plot pour la tache 1:"
   ]
  },
  {
   "cell_type": "code",
   "execution_count": 45,
   "metadata": {},
   "outputs": [],
   "source": [
    "#Fonction qui plot la tache 1\n",
    "def plot_1(period_1, period_2, period_1_first_interval_idx, period_2_first_interval_idx): \n",
    "    periods = [period_1, period_2]\n",
    "    first_interval_idxs = [period_1_first_interval_idx, period_2_first_interval_idx]\n",
    "    fig, axs = plt.subplots(nrows=2, ncols=2, figsize=(16, 8))\n",
    "\n",
    "    for i in range(len(periods)):\n",
    "        period = periods[i] \n",
    "        first_interval_idx = first_interval_idxs[i]\n",
    "        last_interval_idx = first_interval_idx + computing_intervals_amount\n",
    "\n",
    "        x = np.linspace(first_interval_idx, last_interval_idx, computing_intervals_amount)\n",
    "\n",
    "        axs[0][i].plot(x, period[0])\n",
    "        axs[0][i].set_title(\"Période {i} - Évolution des températures\".format(i=i+1))\n",
    "        axs[0][i].set_xlabel(\"Intervalle de temps\")\n",
    "        axs[0][i].set_ylabel(\"Température (°C)\")\n",
    "\n",
    "        axs[1][i].plot(x, period[1], label=\"Fonctionnement normal\")\n",
    "        axs[1][i].plot(x, period[2], label=\"Fonctionnement reverse\")\n",
    "        axs[1][i].set_title(\"Période {i} - Utilisation de la pompe à chaleur\".format(i=i+1))\n",
    "        axs[1][i].set_xlabel(\"Intervalle de temps\")\n",
    "        axs[1][i].set_ylabel(\"Puissance (kW)\")\n",
    "        axs[1][i].legend()\n",
    "        print(\"1. Coût période {i} : {cost}\".format(i=i+1, cost=period[3]))\n",
    "        plt. gcf(). subplots_adjust( wspace = 0.7, hspace = 1) \n",
    "\n",
    "    fig.canvas.manager.set_window_title(\"Tâche 1 - Minimisation du coût avec T_min <= T <= T_max\")\n",
    "    plt.show()"
   ]
  },
  {
   "attachments": {},
   "cell_type": "markdown",
   "metadata": {},
   "source": [
    "Plot pour la tache 2:"
   ]
  },
  {
   "cell_type": "code",
   "execution_count": 46,
   "metadata": {},
   "outputs": [],
   "source": [
    "#Fonction qui plot la tache 2\n",
    "def plot_2(period_1, period_2, period_1_first_interval_idx, period_2_first_interval_idx):\n",
    "    periods = [period_1, period_2]\n",
    "    first_interval_idxs = [period_1_first_interval_idx, period_2_first_interval_idx]\n",
    "    fig, axs = plt.subplots(nrows=2, ncols=2, figsize=(16, 8))\n",
    "\n",
    "    for i in range(len(periods)):\n",
    "        period = periods[i] \n",
    "        first_interval_idx = first_interval_idxs[i]\n",
    "        last_interval_idx = first_interval_idx + computing_intervals_amount\n",
    "\n",
    "        x = np.linspace(first_interval_idx, last_interval_idx, computing_intervals_amount)\n",
    "\n",
    "        axs[0][i].plot(x, period[0])\n",
    "        axs[0][i].set_title(\"Période  {i} - Évolution des températures\".format(i=i+1))\n",
    "        axs[0][i].set_xlabel(\"Intervalle de temps\")\n",
    "        axs[0][i].set_ylabel(\"Température (°C)\")\n",
    "\n",
    "        x = np.linspace(first_interval_idx, last_interval_idx, computing_intervals_amount)\n",
    "\n",
    "        axs[1][i].plot(x, period[1], label=\"Fonctionnement normal\")\n",
    "        axs[1][i].plot(x, period[2], label=\"Fonctionnement reverse\")\n",
    "        axs[1][i].set_title(\"Période {i} - Utilisation de la pompe à chaleur\".format(i=i+1))\n",
    "        axs[1][i].set_xlabel(\"Intervalle de temps\")\n",
    "        axs[1][i].set_ylabel(\"Puissance (kW)\")\n",
    "        axs[1][i].legend()\n",
    "\n",
    "        plt. gcf(). subplots_adjust( wspace = 0.7, hspace = 1) \n",
    "\n",
    "        print(\"2. Inconfort minimal de {inconfort} pour un budget de {budget} à la période {p}\".format(inconfort=period[4], budget=period[3], p=i+1))\n",
    "\n",
    "    fig.canvas.manager.set_window_title(\"Tâche 2 - Minimisation de l'inconfort avec budget restreint d'un facteur {f}\".format(f=task_2_budget_coefficient))\n",
    "    plt.show()"
   ]
  },
  {
   "attachments": {},
   "cell_type": "markdown",
   "metadata": {},
   "source": [
    "Plot pour la tache 3:"
   ]
  },
  {
   "cell_type": "code",
   "execution_count": 47,
   "metadata": {},
   "outputs": [],
   "source": [
    "#Fonction qui plot la tache 3\n",
    "def plot_3(period_1, period_2, period_1_first_interval_idx, period_2_first_interval_idx):\n",
    "    periods = [period_1, period_2]\n",
    "    first_interval_idxs = [period_1_first_interval_idx, period_2_first_interval_idx]\n",
    "\n",
    "    total_computation_time = 0\n",
    "\n",
    "    fig, axs = plt.subplots(nrows=2, ncols=2, figsize=(16, 8))\n",
    "    for i in range(len(periods)):\n",
    "        period = periods[i]\n",
    "        first_interval_idx = first_interval_idxs[i]\n",
    "        last_interval_idx = first_interval_idx + computing_intervals_amount\n",
    "\n",
    "        time = np.linspace(first_interval_idx, last_interval_idx, computing_intervals_amount)\n",
    "        budget = [o[3] if len(o) != 0 else math.inf for o in period]\n",
    "        inconfort = [o[4] if len(o) != 0 else math.inf for o in period]\n",
    "\n",
    "        axs[0][i].set_title(\"Période {i} - Évolution des températures\".format(i=i+1))\n",
    "        axs[0][i].set_xlabel(\"Intervalle de temps\")\n",
    "        axs[0][i].set_ylabel(\"Température (°C)\")\n",
    "\n",
    "        axs[1][i].set_title(\"Période {i} - Évolution des inconforts\".format(i=i+1))\n",
    "        axs[1][i].set_xlabel(\"Budget alloué\")\n",
    "        axs[1][i].set_ylabel(\"Inconfort\")\n",
    "\n",
    "        for o in range(len(period)):\n",
    "            output = period[o]\n",
    "            if len(output) == 0:\n",
    "                print(\"3. Temps de résolution du problème {o} à la période {p} (index initial : {i}): {t}s\".format(p=i+1, o=o+1, t=0, i=first_interval_idx))\n",
    "                continue\n",
    "\n",
    "            computation_time = output[5]\n",
    "            total_computation_time += computation_time\n",
    "            print(\"3. Temps de résolution du problème {o} à la période {p} (index initial : {i}): {t}s\".format(p=i+1, o=o+1, t=computation_time, i=first_interval_idx))\n",
    "\n",
    "            axs[0][i].plot(time, output[0], label=\"{percent}%\".format(percent=o*task_3_step))\n",
    "            plt. gcf(). subplots_adjust( wspace = 0.7, hspace = 1)\n",
    "\n",
    "        print(\"3. Temps de résolution pour la période {p} (index initial {i}) : {t}s\".format(p=i+1, i=first_interval_idx, t=total_computation_time))\n",
    "        axs[1][i].plot(budget, inconfort, \"o-\", color='red')\n",
    "        axs[0][i].legend(loc='center left', bbox_to_anchor=(1,0.5))\n",
    "\n",
    "    fig.canvas.manager.set_window_title(\"Tâche 3 - Minimisation de l'inconfort avec budget restreint à {step}n%\".format(step=task_3_step))\n",
    "    plt.show()"
   ]
  },
  {
   "attachments": {},
   "cell_type": "markdown",
   "metadata": {},
   "source": [
    "Main:"
   ]
  }
 ],
 "metadata": {
  "kernelspec": {
   "display_name": "Python 3",
   "language": "python",
   "name": "python3"
  },
  "language_info": {
   "codemirror_mode": {
    "name": "ipython",
    "version": 3
   },
   "file_extension": ".py",
   "mimetype": "text/x-python",
   "name": "python",
   "nbconvert_exporter": "python",
   "pygments_lexer": "ipython3",
   "version": "3.10.6"
  },
  "orig_nbformat": 4
 },
 "nbformat": 4,
 "nbformat_minor": 2
}
