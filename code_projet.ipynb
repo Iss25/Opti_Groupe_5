{
 "cells": [
  {
   "cell_type": "code",
   "execution_count": 4,
   "metadata": {},
   "outputs": [
    {
     "name": "stderr",
     "output_type": "stream",
     "text": [
      "/home/iss25/.local/lib/python3.10/site-packages/cvxpy/expressions/expression.py:612: UserWarning: \n",
      "This use of ``*`` has resulted in matrix multiplication.\n",
      "Using ``*`` for matrix multiplication has been deprecated since CVXPY 1.1.\n",
      "    Use ``*`` for matrix-scalar and vector-scalar multiplication.\n",
      "    Use ``@`` for matrix-matrix and matrix-vector multiplication.\n",
      "    Use ``multiply`` for elementwise multiplication.\n",
      "This code path has been hit 4 times so far.\n",
      "\n",
      "  warnings.warn(msg, UserWarning)\n"
     ]
    }
   ],
   "source": [
    "import cvxpy as cp #conseillé par l'énoncé\n",
    "import numpy as np #vecteurs et matrices\n",
    "import matplotlib.pyplot as plt #pour les graphes\n",
    "from scipy.optimize import _highs #solver conseillé\n",
    "import math #pour les tanh mais apparemment numpy les import déjà\n",
    "\n",
    "#on va écrire le problème sous la forme \"min c^T x tel que Ax >= b et x >= 0\" où c est le vecteur coût et x = x_t + y_t\n",
    "#avec x_t la puissance par la pompe en temps normal et y_t la puissance par la pompe en temps reverse\n",
    "\n",
    "#différents paramètres\n",
    "nb_intervalles = 7244\n",
    "temperatures_ext = np.load(\"Temperatures-Montreal.npy\")\n",
    "eta = 0.99\n",
    "capacite_calorifique = 0.4 * 360 #en kWh\n",
    "T_min = 19\n",
    "T_max = 21\n",
    "T_int = cp.Variable(nb_intervalles)\n",
    "cost_electricity = np.array([0.18 if (i * 4) % 24 < 7 or (i * 4) % 24 >= 22 else 0.26 for i in range(nb_intervalles)]) #coût qui est variable\n",
    "P_chauff = cp.Variable(nb_intervalles) #puissance par la pompe en temps normal\n",
    "P_refroid = cp.Variable(nb_intervalles)#puissance par la pompe en mode inverse\n",
    "\n",
    "contraintes = [] #matrice A\n",
    "#début de la résolution, il ne faut pas oubleir que T_0 = T_672 qui doivent etre entre T_min et T_max\n",
    "for i in range(nb_intervalles):\n",
    "    contraintes.append(T_int[i] >= T_min)\n",
    "    contraintes.append(T_int[i] <= T_max)\n",
    "\n",
    "for i in range(nb_intervalles - 1):\n",
    "    COP_chauff = 3 + 10 * np.abs(np.tanh(temperatures_ext[i] / 100)) * np.tanh(temperatures_ext[i] / 100)\n",
    "    COP_refroid = 3.2  # valeur constante pour COP_refroid\n",
    "\n",
    "    contraintes.append(T_int[i + 1] - T_int[i] - (1 - eta) * (temperatures_ext[i] - T_int[i]))\n",
    "\n",
    "#On finit les contraintes\n",
    "contraintes.append(P_chauff >= 0) #puissances positives\n",
    "contraintes.append(P_refroid >= 0)\n",
    "\n",
    "cost = cp.sum(cost_electricity * (P_chauff + P_refroid)) #coût total\n",
    "#res = cp.Problem(cp.Minimize(cost), contraintes)\n",
    "\n",
    "#res = _highs.(cost, contraintes_ub=contraintes, b_ub=b, options={\"disp\": False}) #ici je sais pas trop comment faire"
   ]
  }
 ],
 "metadata": {
  "kernelspec": {
   "display_name": "Python 3",
   "language": "python",
   "name": "python3"
  },
  "language_info": {
   "codemirror_mode": {
    "name": "ipython",
    "version": 3
   },
   "file_extension": ".py",
   "mimetype": "text/x-python",
   "name": "python",
   "nbconvert_exporter": "python",
   "pygments_lexer": "ipython3",
   "version": "3.10.6"
  },
  "orig_nbformat": 4
 },
 "nbformat": 4,
 "nbformat_minor": 2
}
