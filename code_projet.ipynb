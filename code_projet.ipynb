{
 "cells": [
  {
   "cell_type": "code",
   "execution_count": 6,
   "metadata": {},
   "outputs": [
    {
     "name": "stdout",
     "output_type": "stream",
     "text": [
      "[ -0.83  -0.83  -0.83 ... -11.1  -11.1  -11.1 ]\n"
     ]
    },
    {
     "name": "stderr",
     "output_type": "stream",
     "text": [
      "/home/iss25/.local/lib/python3.10/site-packages/cvxpy/expressions/expression.py:612: UserWarning: \n",
      "This use of ``*`` has resulted in matrix multiplication.\n",
      "Using ``*`` for matrix multiplication has been deprecated since CVXPY 1.1.\n",
      "    Use ``*`` for matrix-scalar and vector-scalar multiplication.\n",
      "    Use ``@`` for matrix-matrix and matrix-vector multiplication.\n",
      "    Use ``multiply`` for elementwise multiplication.\n",
      "This code path has been hit 5 times so far.\n",
      "\n",
      "  warnings.warn(msg, UserWarning)\n"
     ]
    },
    {
     "ename": "ValueError",
     "evalue": "Problem has an invalid constraint of type <class 'cvxpy.atoms.affine.add_expr.AddExpression'>",
     "output_type": "error",
     "traceback": [
      "\u001b[0;31m---------------------------------------------------------------------------\u001b[0m",
      "\u001b[0;31mValueError\u001b[0m                                Traceback (most recent call last)",
      "Cell \u001b[0;32mIn[6], line 40\u001b[0m\n\u001b[1;32m     37\u001b[0m contraintes\u001b[39m.\u001b[39mappend(P_refroid \u001b[39m>\u001b[39m\u001b[39m=\u001b[39m \u001b[39m0\u001b[39m)\n\u001b[1;32m     39\u001b[0m cost \u001b[39m=\u001b[39m cp\u001b[39m.\u001b[39msum(cost_electricity \u001b[39m*\u001b[39m (P_chauff \u001b[39m+\u001b[39m P_refroid)) \u001b[39m#coût total\u001b[39;00m\n\u001b[0;32m---> 40\u001b[0m res \u001b[39m=\u001b[39m cp\u001b[39m.\u001b[39;49mProblem(cp\u001b[39m.\u001b[39;49mMinimize(cost), contraintes)\n\u001b[1;32m     42\u001b[0m \u001b[39m#res = _highs.(cost, contraintes_ub=contraintes, b_ub=b, options={\"disp\": False}) #ici je sais pas trop comment faire\u001b[39;00m\n",
      "File \u001b[0;32m~/.local/lib/python3.10/site-packages/cvxpy/problems/problem.py:157\u001b[0m, in \u001b[0;36mProblem.__init__\u001b[0;34m(self, objective, constraints)\u001b[0m\n\u001b[1;32m    154\u001b[0m \u001b[39mif\u001b[39;00m debug_tools\u001b[39m.\u001b[39mnode_count(\u001b[39mself\u001b[39m\u001b[39m.\u001b[39m_objective) \u001b[39m>\u001b[39m\u001b[39m=\u001b[39m debug_tools\u001b[39m.\u001b[39mMAX_NODES:\n\u001b[1;32m    155\u001b[0m     warnings\u001b[39m.\u001b[39mwarn(\u001b[39m\"\u001b[39m\u001b[39mObjective contains too many subexpressions. \u001b[39m\u001b[39m\"\u001b[39m\n\u001b[1;32m    156\u001b[0m                   \u001b[39m\"\u001b[39m\u001b[39mConsider vectorizing your CVXPY code to speed up compilation.\u001b[39m\u001b[39m\"\u001b[39m)\n\u001b[0;32m--> 157\u001b[0m \u001b[39mself\u001b[39m\u001b[39m.\u001b[39m_constraints \u001b[39m=\u001b[39m [_validate_constraint(c) \u001b[39mfor\u001b[39;00m c \u001b[39min\u001b[39;00m constraints]\n\u001b[1;32m    158\u001b[0m \u001b[39m# Raise warning if constraint has too many subexpressions.\u001b[39;00m\n\u001b[1;32m    159\u001b[0m \u001b[39mfor\u001b[39;00m i, constraint \u001b[39min\u001b[39;00m \u001b[39menumerate\u001b[39m(\u001b[39mself\u001b[39m\u001b[39m.\u001b[39m_constraints):\n",
      "File \u001b[0;32m~/.local/lib/python3.10/site-packages/cvxpy/problems/problem.py:157\u001b[0m, in \u001b[0;36m<listcomp>\u001b[0;34m(.0)\u001b[0m\n\u001b[1;32m    154\u001b[0m \u001b[39mif\u001b[39;00m debug_tools\u001b[39m.\u001b[39mnode_count(\u001b[39mself\u001b[39m\u001b[39m.\u001b[39m_objective) \u001b[39m>\u001b[39m\u001b[39m=\u001b[39m debug_tools\u001b[39m.\u001b[39mMAX_NODES:\n\u001b[1;32m    155\u001b[0m     warnings\u001b[39m.\u001b[39mwarn(\u001b[39m\"\u001b[39m\u001b[39mObjective contains too many subexpressions. \u001b[39m\u001b[39m\"\u001b[39m\n\u001b[1;32m    156\u001b[0m                   \u001b[39m\"\u001b[39m\u001b[39mConsider vectorizing your CVXPY code to speed up compilation.\u001b[39m\u001b[39m\"\u001b[39m)\n\u001b[0;32m--> 157\u001b[0m \u001b[39mself\u001b[39m\u001b[39m.\u001b[39m_constraints \u001b[39m=\u001b[39m [_validate_constraint(c) \u001b[39mfor\u001b[39;00m c \u001b[39min\u001b[39;00m constraints]\n\u001b[1;32m    158\u001b[0m \u001b[39m# Raise warning if constraint has too many subexpressions.\u001b[39;00m\n\u001b[1;32m    159\u001b[0m \u001b[39mfor\u001b[39;00m i, constraint \u001b[39min\u001b[39;00m \u001b[39menumerate\u001b[39m(\u001b[39mself\u001b[39m\u001b[39m.\u001b[39m_constraints):\n",
      "File \u001b[0;32m~/.local/lib/python3.10/site-packages/cvxpy/problems/problem.py:122\u001b[0m, in \u001b[0;36m_validate_constraint\u001b[0;34m(constraint)\u001b[0m\n\u001b[1;32m    119\u001b[0m     \u001b[39mreturn\u001b[39;00m (Constant(\u001b[39m0\u001b[39m) \u001b[39m<\u001b[39m\u001b[39m=\u001b[39m Constant(\u001b[39m1\u001b[39m) \u001b[39mif\u001b[39;00m constraint \u001b[39melse\u001b[39;00m\n\u001b[1;32m    120\u001b[0m             Constant(\u001b[39m1\u001b[39m) \u001b[39m<\u001b[39m\u001b[39m=\u001b[39m Constant(\u001b[39m0\u001b[39m))\n\u001b[1;32m    121\u001b[0m \u001b[39melse\u001b[39;00m:\n\u001b[0;32m--> 122\u001b[0m     \u001b[39mraise\u001b[39;00m \u001b[39mValueError\u001b[39;00m(\u001b[39m\"\u001b[39m\u001b[39mProblem has an invalid constraint of type \u001b[39m\u001b[39m%s\u001b[39;00m\u001b[39m\"\u001b[39m \u001b[39m%\u001b[39m\n\u001b[1;32m    123\u001b[0m                      \u001b[39mtype\u001b[39m(constraint))\n",
      "\u001b[0;31mValueError\u001b[0m: Problem has an invalid constraint of type <class 'cvxpy.atoms.affine.add_expr.AddExpression'>"
     ]
    }
   ],
   "source": [
    "import cvxpy as cp #conseillé par l'énoncé\n",
    "import numpy as np #vecteurs et matrices\n",
    "import matplotlib.pyplot as plt #pour les graphes\n",
    "from scipy.optimize import _highs #solver conseillé\n",
    "import math #pour les tanh mais apparemment numpy les import déjà\n",
    "\n",
    "#on va écrire le problème sous la forme \"min c^T x tel que Ax >= b et x >= 0\" où c est le vecteur coût et x = x_t + y_t\n",
    "#avec x_t la puissance par la pompe en temps normal et y_t la puissance par la pompe en temps reverse\n",
    "\n",
    "#différents paramètres\n",
    "nb_intervalles = 7244\n",
    "temperatures_ext = np.load(\"Temperatures-Montreal.npy\")\n",
    "eta = 0.99\n",
    "capacite_calorifique = 0.4 * 360 #en kWh\n",
    "T_min = 19\n",
    "T_max = 21\n",
    "T_int = cp.Variable(nb_intervalles)\n",
    "cost_electricity = np.array([0.18 if (i * 4) % 24 < 7 or (i * 4) % 24 >= 22 else 0.26 for i in range(nb_intervalles)]) #coût qui est variable\n",
    "P_chauff = cp.Variable(nb_intervalles) #puissance par la pompe en temps normal\n",
    "P_refroid = cp.Variable(nb_intervalles)#puissance par la pompe en mode inverse\n",
    "\n",
    "contraintes = [] #matrice A\n",
    "#début de la résolution, il ne faut pas oubleir que T_0 = T_672 qui doivent etre entre T_min et T_max\n",
    "for i in range(nb_intervalles):\n",
    "    contraintes.append(T_int[i] >= T_min)\n",
    "    contraintes.append(T_int[i] <= T_max)\n",
    "\n",
    "for i in range(nb_intervalles - 1):\n",
    "    COP_chauff = 3 + 10 * np.abs(np.tanh(temperatures_ext[i] / 100)) * np.tanh(temperatures_ext[i] / 100)\n",
    "    COP_refroid = 3.2  # valeur constante pour COP_refroid\n",
    "\n",
    "    contraintes.append(T_int[i + 1] - T_int[i] - (1 - eta) * (temperatures_ext[i] - T_int[i]))\n",
    "\n",
    "#On finit les contraintes\n",
    "contraintes.append(P_chauff >= 0) #puissances positives\n",
    "contraintes.append(P_refroid >= 0)\n",
    "\n",
    "cost = cp.sum(cost_electricity * (P_chauff + P_refroid)) #coût total\n",
    "res = cp.Problem(cp.Minimize(cost), contraintes)\n",
    "\n",
    "#res = _highs.(cost, contraintes_ub=contraintes, b_ub=b, options={\"disp\": False}) #ici je sais pas trop comment faire"
   ]
  }
 ],
 "metadata": {
  "kernelspec": {
   "display_name": "Python 3",
   "language": "python",
   "name": "python3"
  },
  "language_info": {
   "codemirror_mode": {
    "name": "ipython",
    "version": 3
   },
   "file_extension": ".py",
   "mimetype": "text/x-python",
   "name": "python",
   "nbconvert_exporter": "python",
   "pygments_lexer": "ipython3",
   "version": "3.10.6"
  },
  "orig_nbformat": 4
 },
 "nbformat": 4,
 "nbformat_minor": 2
}
